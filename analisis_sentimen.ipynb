{
 "cells": [
  {
   "cell_type": "markdown",
   "metadata": {},
   "source": [
    "## PERKENALAN DATASET\n",
    "Dataset hasil scrappping yang saya ambil adalah data dari komentar 3 video youtube windah basudara yang komentar nya berjumlah kurang lebih 26.000 data atau sampel, data ini memiliki 4 aktegori, yaitu link video, isi koemntar, penulis koemntar, dan juga waktu koemntar dipublish."
   ]
  },
  {
   "cell_type": "markdown",
   "metadata": {},
   "source": [
    "## IMPORT LIBRARY"
   ]
  },
  {
   "cell_type": "code",
   "execution_count": 1,
   "metadata": {},
   "outputs": [],
   "source": [
    "# Untuk manipulasi data\n",
    "import pandas as pd\n",
    "import numpy as np\n",
    "# Untuk visualisasi (opsional tapi berguna)\n",
    "import matplotlib.pyplot as plt\n",
    "import seaborn as sns\n",
    "# Untuk preprocessing teks\n",
    "import re\n",
    "import string\n",
    "from nltk.corpus import stopwords\n",
    "from nltk.tokenize import word_tokenize\n",
    "from sklearn.model_selection import train_test_split\n",
    "from sklearn.preprocessing import LabelEncoder\n",
    "# Untuk modeling dengan deep learning (menggunakan TensorFlow/Keras)\n",
    "import tensorflow as tf\n",
    "from tensorflow.keras.models import Sequential\n",
    "from tensorflow.keras.layers import Embedding, LSTM, Dense, Dropout, Bidirectional, GlobalMaxPooling1D, Conv1D\n",
    "from tensorflow.keras.preprocessing.text import Tokenizer\n",
    "from tensorflow.keras.preprocessing.sequence import pad_sequences\n",
    "# Untuk evaluasi\n",
    "from sklearn.metrics import classification_report, confusion_matrix\n",
    "# (Opsional) untuk menggunakan BERT\n",
    "# from transformers import BertTokenizer, TFBertForSequenceClassification\n",
    "# Pastikan library NLTK sudah di-download\n"
   ]
  },
  {
   "cell_type": "markdown",
   "metadata": {},
   "source": [
    "## READ DATASET"
   ]
  },
  {
   "cell_type": "code",
   "execution_count": 2,
   "metadata": {},
   "outputs": [
    {
     "name": "stdout",
     "output_type": "stream",
     "text": [
      "                                     video_url                   author  \\\n",
      "0  https://www.youtube.com/watch?v=hzUG58aJ124              @GGytGaming   \n",
      "1  https://www.youtube.com/watch?v=hzUG58aJ124  @yoelvarel1thunlalu.820   \n",
      "2  https://www.youtube.com/watch?v=hzUG58aJ124           @almerstsy8111   \n",
      "3  https://www.youtube.com/watch?v=hzUG58aJ124              @yndtks5996   \n",
      "4  https://www.youtube.com/watch?v=hzUG58aJ124              @Nathan-b1k   \n",
      "\n",
      "                                                text               time  \n",
      "0  Most wanted ini masih yang terbaik tanpa adany...  4 tahun yang lalu  \n",
      "1                   Emang ada yang nonton dari 2025?  3 bulan yang lalu  \n",
      "2                     masih ada yg nonton dari 2024?  4 bulan yang lalu  \n",
      "3                           Sorry bang telat 1 tahun  3 tahun yang lalu  \n",
      "4  Gua percaya yg nonton ini sebagian besar penge...  5 tahun yang lalu  \n"
     ]
    }
   ],
   "source": [
    "# Baca dataset dari file CSV\n",
    "df = pd.read_csv('komentar_youtube_windah.csv')\n",
    "# Tampilkan 5 baris pertama untuk memastikan data terbaca\n",
    "print(df.head())"
   ]
  },
  {
   "cell_type": "code",
   "execution_count": 3,
   "metadata": {},
   "outputs": [
    {
     "name": "stdout",
     "output_type": "stream",
     "text": [
      "<class 'pandas.core.frame.DataFrame'>\n",
      "RangeIndex: 26000 entries, 0 to 25999\n",
      "Data columns (total 4 columns):\n",
      " #   Column     Non-Null Count  Dtype \n",
      "---  ------     --------------  ----- \n",
      " 0   video_url  26000 non-null  object\n",
      " 1   author     26000 non-null  object\n",
      " 2   text       26000 non-null  object\n",
      " 3   time       26000 non-null  object\n",
      "dtypes: object(4)\n",
      "memory usage: 812.6+ KB\n"
     ]
    }
   ],
   "source": [
    "df.info()"
   ]
  },
  {
   "cell_type": "code",
   "execution_count": 4,
   "metadata": {},
   "outputs": [
    {
     "data": {
      "text/html": [
       "<div>\n",
       "<style scoped>\n",
       "    .dataframe tbody tr th:only-of-type {\n",
       "        vertical-align: middle;\n",
       "    }\n",
       "\n",
       "    .dataframe tbody tr th {\n",
       "        vertical-align: top;\n",
       "    }\n",
       "\n",
       "    .dataframe thead th {\n",
       "        text-align: right;\n",
       "    }\n",
       "</style>\n",
       "<table border=\"1\" class=\"dataframe\">\n",
       "  <thead>\n",
       "    <tr style=\"text-align: right;\">\n",
       "      <th></th>\n",
       "      <th>video_url</th>\n",
       "      <th>author</th>\n",
       "      <th>text</th>\n",
       "      <th>time</th>\n",
       "    </tr>\n",
       "  </thead>\n",
       "  <tbody>\n",
       "    <tr>\n",
       "      <th>count</th>\n",
       "      <td>26000</td>\n",
       "      <td>26000</td>\n",
       "      <td>26000</td>\n",
       "      <td>26000</td>\n",
       "    </tr>\n",
       "    <tr>\n",
       "      <th>unique</th>\n",
       "      <td>2</td>\n",
       "      <td>19163</td>\n",
       "      <td>19352</td>\n",
       "      <td>41</td>\n",
       "    </tr>\n",
       "    <tr>\n",
       "      <th>top</th>\n",
       "      <td>https://www.youtube.com/watch?v=hzUG58aJ124</td>\n",
       "      <td>@nunuksetyaningwati8894</td>\n",
       "      <td>Sorry bang telat 2 tahun</td>\n",
       "      <td>3 tahun yang lalu</td>\n",
       "    </tr>\n",
       "    <tr>\n",
       "      <th>freq</th>\n",
       "      <td>16731</td>\n",
       "      <td>72</td>\n",
       "      <td>122</td>\n",
       "      <td>10660</td>\n",
       "    </tr>\n",
       "  </tbody>\n",
       "</table>\n",
       "</div>"
      ],
      "text/plain": [
       "                                          video_url                   author  \\\n",
       "count                                         26000                    26000   \n",
       "unique                                            2                    19163   \n",
       "top     https://www.youtube.com/watch?v=hzUG58aJ124  @nunuksetyaningwati8894   \n",
       "freq                                          16731                       72   \n",
       "\n",
       "                            text               time  \n",
       "count                      26000              26000  \n",
       "unique                     19352                 41  \n",
       "top     Sorry bang telat 2 tahun  3 tahun yang lalu  \n",
       "freq                         122              10660  "
      ]
     },
     "execution_count": 4,
     "metadata": {},
     "output_type": "execute_result"
    }
   ],
   "source": [
    "df.describe()"
   ]
  },
  {
   "cell_type": "markdown",
   "metadata": {},
   "source": [
    "## CLEANING DATASET"
   ]
  },
  {
   "cell_type": "code",
   "execution_count": 5,
   "metadata": {},
   "outputs": [
    {
     "name": "stdout",
     "output_type": "stream",
     "text": [
      "Kolom 'video_url' berhasil dihapus.\n"
     ]
    }
   ],
   "source": [
    "# Hapus kolom video_url\n",
    "df.drop(columns='video_url', inplace=True)\n",
    "print(\"Kolom 'video_url' berhasil dihapus.\")\n"
   ]
  },
  {
   "cell_type": "code",
   "execution_count": 6,
   "metadata": {},
   "outputs": [
    {
     "name": "stdout",
     "output_type": "stream",
     "text": [
      "Jumlah missing values tiap kolom:\n",
      "author    0\n",
      "text      0\n",
      "time      0\n",
      "dtype: int64\n"
     ]
    }
   ],
   "source": [
    "# Cek missing values per kolom\n",
    "missing_data = df.isnull().sum()\n",
    "print(\"Jumlah missing values tiap kolom:\")\n",
    "print(missing_data)"
   ]
  },
  {
   "cell_type": "code",
   "execution_count": 7,
   "metadata": {},
   "outputs": [
    {
     "name": "stdout",
     "output_type": "stream",
     "text": [
      "Jumlah baris duplikat (seluruh kolom): 8826\n"
     ]
    },
    {
     "data": {
      "text/html": [
       "<div>\n",
       "<style scoped>\n",
       "    .dataframe tbody tr th:only-of-type {\n",
       "        vertical-align: middle;\n",
       "    }\n",
       "\n",
       "    .dataframe tbody tr th {\n",
       "        vertical-align: top;\n",
       "    }\n",
       "\n",
       "    .dataframe thead th {\n",
       "        text-align: right;\n",
       "    }\n",
       "</style>\n",
       "<table border=\"1\" class=\"dataframe\">\n",
       "  <thead>\n",
       "    <tr style=\"text-align: right;\">\n",
       "      <th></th>\n",
       "      <th>author</th>\n",
       "      <th>text</th>\n",
       "      <th>time</th>\n",
       "    </tr>\n",
       "  </thead>\n",
       "  <tbody>\n",
       "    <tr>\n",
       "      <th>0</th>\n",
       "      <td>@GGytGaming</td>\n",
       "      <td>Most wanted ini masih yang terbaik tanpa adany...</td>\n",
       "      <td>4 tahun yang lalu</td>\n",
       "    </tr>\n",
       "    <tr>\n",
       "      <th>1</th>\n",
       "      <td>@yoelvarel1thunlalu.820</td>\n",
       "      <td>Emang ada yang nonton dari 2025?</td>\n",
       "      <td>3 bulan yang lalu</td>\n",
       "    </tr>\n",
       "    <tr>\n",
       "      <th>2</th>\n",
       "      <td>@almerstsy8111</td>\n",
       "      <td>masih ada yg nonton dari 2024?</td>\n",
       "      <td>4 bulan yang lalu</td>\n",
       "    </tr>\n",
       "    <tr>\n",
       "      <th>3</th>\n",
       "      <td>@yndtks5996</td>\n",
       "      <td>Sorry bang telat 1 tahun</td>\n",
       "      <td>3 tahun yang lalu</td>\n",
       "    </tr>\n",
       "    <tr>\n",
       "      <th>4</th>\n",
       "      <td>@Nathan-b1k</td>\n",
       "      <td>Gua percaya yg nonton ini sebagian besar penge...</td>\n",
       "      <td>5 tahun yang lalu</td>\n",
       "    </tr>\n",
       "    <tr>\n",
       "      <th>...</th>\n",
       "      <td>...</td>\n",
       "      <td>...</td>\n",
       "      <td>...</td>\n",
       "    </tr>\n",
       "    <tr>\n",
       "      <th>25947</th>\n",
       "      <td>@ilhamkurniawan8958</td>\n",
       "      <td>hahaha untung gw nontonnya pas udah buka mang\\...</td>\n",
       "      <td>3 tahun yang lalu</td>\n",
       "    </tr>\n",
       "    <tr>\n",
       "      <th>25960</th>\n",
       "      <td>@evnz1818</td>\n",
       "      <td>0:05 Top 10 Best Cosplay in the World</td>\n",
       "      <td>3 tahun yang lalu</td>\n",
       "    </tr>\n",
       "    <tr>\n",
       "      <th>25982</th>\n",
       "      <td>@muhammadfaizpmm2411</td>\n",
       "      <td>3:50 Thanks you Garena dong bang 😂🗿</td>\n",
       "      <td>3 tahun yang lalu</td>\n",
       "    </tr>\n",
       "    <tr>\n",
       "      <th>25988</th>\n",
       "      <td>@rakapratama</td>\n",
       "      <td>yg ini dibayar sm supercell bro wwkwkwk</td>\n",
       "      <td>3 tahun yang lalu</td>\n",
       "    </tr>\n",
       "    <tr>\n",
       "      <th>25997</th>\n",
       "      <td>@joelll4720</td>\n",
       "      <td>Child:mom can i have a barbarian king?\\nMom: w...</td>\n",
       "      <td>3 tahun yang lalu (diedit)</td>\n",
       "    </tr>\n",
       "  </tbody>\n",
       "</table>\n",
       "<p>8826 rows × 3 columns</p>\n",
       "</div>"
      ],
      "text/plain": [
       "                        author  \\\n",
       "0                  @GGytGaming   \n",
       "1      @yoelvarel1thunlalu.820   \n",
       "2               @almerstsy8111   \n",
       "3                  @yndtks5996   \n",
       "4                  @Nathan-b1k   \n",
       "...                        ...   \n",
       "25947      @ilhamkurniawan8958   \n",
       "25960                @evnz1818   \n",
       "25982     @muhammadfaizpmm2411   \n",
       "25988             @rakapratama   \n",
       "25997              @joelll4720   \n",
       "\n",
       "                                                    text  \\\n",
       "0      Most wanted ini masih yang terbaik tanpa adany...   \n",
       "1                       Emang ada yang nonton dari 2025?   \n",
       "2                         masih ada yg nonton dari 2024?   \n",
       "3                               Sorry bang telat 1 tahun   \n",
       "4      Gua percaya yg nonton ini sebagian besar penge...   \n",
       "...                                                  ...   \n",
       "25947  hahaha untung gw nontonnya pas udah buka mang\\...   \n",
       "25960              0:05 Top 10 Best Cosplay in the World   \n",
       "25982                3:50 Thanks you Garena dong bang 😂🗿   \n",
       "25988            yg ini dibayar sm supercell bro wwkwkwk   \n",
       "25997  Child:mom can i have a barbarian king?\\nMom: w...   \n",
       "\n",
       "                             time  \n",
       "0               4 tahun yang lalu  \n",
       "1               3 bulan yang lalu  \n",
       "2               4 bulan yang lalu  \n",
       "3               3 tahun yang lalu  \n",
       "4               5 tahun yang lalu  \n",
       "...                           ...  \n",
       "25947           3 tahun yang lalu  \n",
       "25960           3 tahun yang lalu  \n",
       "25982           3 tahun yang lalu  \n",
       "25988           3 tahun yang lalu  \n",
       "25997  3 tahun yang lalu (diedit)  \n",
       "\n",
       "[8826 rows x 3 columns]"
      ]
     },
     "metadata": {},
     "output_type": "display_data"
    }
   ],
   "source": [
    "# Cek jumlah baris yang sepenuhnya duplikat\n",
    "duplicate_rows = df[df.duplicated(keep=False)]\n",
    "print(f\"Jumlah baris duplikat (seluruh kolom): {duplicate_rows.shape[0]}\")\n",
    "display(duplicate_rows)"
   ]
  },
  {
   "cell_type": "code",
   "execution_count": 8,
   "metadata": {},
   "outputs": [],
   "source": [
    "# Hapus duplikasi dari seluruh baris\n",
    "df.drop_duplicates(inplace=True)"
   ]
  },
  {
   "cell_type": "code",
   "execution_count": 9,
   "metadata": {},
   "outputs": [
    {
     "data": {
      "text/plain": [
       "0        False\n",
       "1        False\n",
       "2        False\n",
       "3        False\n",
       "4        False\n",
       "         ...  \n",
       "25994    False\n",
       "25995    False\n",
       "25996    False\n",
       "25998    False\n",
       "25999    False\n",
       "Length: 21430, dtype: bool"
      ]
     },
     "execution_count": 9,
     "metadata": {},
     "output_type": "execute_result"
    }
   ],
   "source": [
    "df.duplicated()"
   ]
  },
  {
   "cell_type": "code",
   "execution_count": 10,
   "metadata": {},
   "outputs": [
    {
     "name": "stderr",
     "output_type": "stream",
     "text": [
      "[nltk_data] Downloading package punkt to\n",
      "[nltk_data]     C:\\Users\\padla\\AppData\\Roaming\\nltk_data...\n",
      "[nltk_data]   Package punkt is already up-to-date!\n",
      "[nltk_data] Downloading package stopwords to\n",
      "[nltk_data]     C:\\Users\\padla\\AppData\\Roaming\\nltk_data...\n",
      "[nltk_data]   Package stopwords is already up-to-date!\n"
     ]
    }
   ],
   "source": [
    "import re\n",
    "import nltk\n",
    "from nltk.corpus import stopwords\n",
    "from nltk.tokenize import TreebankWordTokenizer\n",
    "import random\n",
    "\n",
    "# Download data NLTK\n",
    "nltk.download('punkt')\n",
    "nltk.download('stopwords')\n",
    "\n",
    "#  Lowercase + Hapus karakter khusus\n",
    "def clean_text(text):\n",
    "    text = re.sub(r'http\\S+|www.\\S+', '', text)  # hapus link\n",
    "    text = re.sub(r'@[A-Za-z0-9_]+', '', text)   # hapus mention\n",
    "    text = re.sub(r'#\\S+', '', text)            # hapus hashtag\n",
    "    text = re.sub(r'[^a-zA-Z\\s]', '', text)     # hapus karakter non-huruf\n",
    "    text = text.lower().strip()\n",
    "    return text\n",
    "\n",
    "df['cleaned'] = df['text'].apply(clean_text)\n",
    "\n",
    "#  Tokenisasi\n",
    "tokenizer = TreebankWordTokenizer()\n",
    "df['tokens'] = df['cleaned'].apply(tokenizer.tokenize)\n",
    "\n",
    "\n",
    "#  Hapus stopwords Bahasa Indonesia\n",
    "stop_words = set(stopwords.words('indonesian'))\n",
    "df['tokens'] = df['tokens'].apply(lambda x: [word for word in x if word not in stop_words])\n",
    "\n",
    "#  Gabungkan kembali token jadi string (jika ingin input ke model)\n",
    "df['clean_text'] = df['tokens'].apply(lambda x: ' '.join(x))\n",
    "\n"
   ]
  },
  {
   "cell_type": "code",
   "execution_count": 11,
   "metadata": {},
   "outputs": [],
   "source": [
    "from Sastrawi.Stemmer.StemmerFactory import StemmerFactory\n",
    "\n",
    "factory = StemmerFactory()\n",
    "stemmer = factory.create_stemmer()\n",
    "\n",
    "df['stemmed'] = df['tokens'].apply(lambda tokens: [stemmer.stem(word) for word in tokens])\n"
   ]
  },
  {
   "cell_type": "code",
   "execution_count": 12,
   "metadata": {},
   "outputs": [],
   "source": [
    "df['processed'] = df['stemmed'].apply(lambda tokens: ' '.join(tokens))"
   ]
  },
  {
   "cell_type": "code",
   "execution_count": 19,
   "metadata": {},
   "outputs": [],
   "source": [
    "from transformers import AutoTokenizer\n",
    "\n",
    "# Load tokenizer dari model\n",
    "tokenizer = AutoTokenizer.from_pretrained(\"distilbert-base-uncased-finetuned-sst-2-english\")\n",
    "\n",
    "# Fungsi untuk memotong teks berdasarkan token\n",
    "def truncate_text(text, max_length=512):\n",
    "    encoded = tokenizer.encode_plus(\n",
    "        text,\n",
    "        max_length=max_length,\n",
    "        truncation=True,  # Aktifkan pemotongan otomatis\n",
    "        padding=\"max_length\",  # Tambahkan padding jika diperlukan\n",
    "        return_tensors=\"pt\"  # Kembalikan sebagai tensor\n",
    "    )\n",
    "    return tokenizer.decode(encoded[\"input_ids\"][0], skip_special_tokens=True)\n",
    "\n",
    "# Terapkan ke kolom 'processed'\n",
    "df['processed'] = df['processed'].apply(lambda x: truncate_text(x, max_length=512))"
   ]
  },
  {
   "cell_type": "code",
   "execution_count": 20,
   "metadata": {},
   "outputs": [
    {
     "name": "stderr",
     "output_type": "stream",
     "text": [
      "No model was supplied, defaulted to distilbert/distilbert-base-uncased-finetuned-sst-2-english and revision 714eb0f (https://huggingface.co/distilbert/distilbert-base-uncased-finetuned-sst-2-english).\n",
      "Using a pipeline without specifying a model name and revision in production is not recommended.\n",
      "Device set to use cpu\n"
     ]
    }
   ],
   "source": [
    "from transformers import pipeline\n",
    "\n",
    "# Gunakan pipeline sentimen dari Hugging Face\n",
    "sentiment_pipeline = pipeline(\"sentiment-analysis\")\n",
    "\n",
    "# Fungsi untuk prediksi sentimen\n",
    "def predict_sentiment(processed):\n",
    "    result = sentiment_pipeline(processed)[0]\n",
    "    if result['label'] == 'NEGATIVE':\n",
    "        return 0  # Negatif\n",
    "    elif result['label'] == 'POSITIVE':\n",
    "        return 2  # Positif\n",
    "    else:\n",
    "        return 1  # Netral\n",
    "\n",
    "# Terapkan fungsi ke dataset\n",
    "df['label'] = df['processed'].apply(predict_sentiment)"
   ]
  },
  {
   "cell_type": "code",
   "execution_count": 22,
   "metadata": {},
   "outputs": [
    {
     "name": "stdout",
     "output_type": "stream",
     "text": [
      "<class 'pandas.core.frame.DataFrame'>\n",
      "Index: 21430 entries, 0 to 25999\n",
      "Data columns (total 9 columns):\n",
      " #   Column      Non-Null Count  Dtype \n",
      "---  ------      --------------  ----- \n",
      " 0   author      21430 non-null  object\n",
      " 1   text        21430 non-null  object\n",
      " 2   time        21430 non-null  object\n",
      " 3   cleaned     21430 non-null  object\n",
      " 4   tokens      21430 non-null  object\n",
      " 5   clean_text  21430 non-null  object\n",
      " 6   stemmed     21430 non-null  object\n",
      " 7   processed   21430 non-null  object\n",
      " 8   label       21430 non-null  int64 \n",
      "dtypes: int64(1), object(8)\n",
      "memory usage: 1.6+ MB\n"
     ]
    }
   ],
   "source": [
    "df.info()"
   ]
  },
  {
   "cell_type": "markdown",
   "metadata": {},
   "source": [
    "## MEMBANGUN MODEL & EVALUASI"
   ]
  },
  {
   "cell_type": "code",
   "execution_count": 23,
   "metadata": {},
   "outputs": [
    {
     "name": "stderr",
     "output_type": "stream",
     "text": [
      "c:\\Users\\padla\\OneDrive\\Documents\\Tugas\\Dicoding\\Analisis Sentimen\\.venv\\Lib\\site-packages\\keras\\src\\layers\\core\\embedding.py:90: UserWarning: Argument `input_length` is deprecated. Just remove it.\n",
      "  warnings.warn(\n"
     ]
    },
    {
     "name": "stdout",
     "output_type": "stream",
     "text": [
      "Epoch 1/10\n",
      "\u001b[1m536/536\u001b[0m \u001b[32m━━━━━━━━━━━━━━━━━━━━\u001b[0m\u001b[37m\u001b[0m \u001b[1m22s\u001b[0m 36ms/step - accuracy: 0.7647 - loss: 0.5138 - val_accuracy: 0.8430 - val_loss: 0.3364\n",
      "Epoch 2/10\n",
      "\u001b[1m536/536\u001b[0m \u001b[32m━━━━━━━━━━━━━━━━━━━━\u001b[0m\u001b[37m\u001b[0m \u001b[1m19s\u001b[0m 35ms/step - accuracy: 0.9081 - loss: 0.2328 - val_accuracy: 0.8703 - val_loss: 0.3161\n",
      "Epoch 3/10\n",
      "\u001b[1m536/536\u001b[0m \u001b[32m━━━━━━━━━━━━━━━━━━━━\u001b[0m\u001b[37m\u001b[0m \u001b[1m19s\u001b[0m 35ms/step - accuracy: 0.9410 - loss: 0.1535 - val_accuracy: 0.8684 - val_loss: 0.3120\n",
      "Epoch 4/10\n",
      "\u001b[1m536/536\u001b[0m \u001b[32m━━━━━━━━━━━━━━━━━━━━\u001b[0m\u001b[37m\u001b[0m \u001b[1m19s\u001b[0m 35ms/step - accuracy: 0.9594 - loss: 0.1114 - val_accuracy: 0.8665 - val_loss: 0.3366\n",
      "Epoch 5/10\n",
      "\u001b[1m536/536\u001b[0m \u001b[32m━━━━━━━━━━━━━━━━━━━━\u001b[0m\u001b[37m\u001b[0m \u001b[1m19s\u001b[0m 35ms/step - accuracy: 0.9669 - loss: 0.0905 - val_accuracy: 0.8724 - val_loss: 0.4107\n",
      "Epoch 6/10\n",
      "\u001b[1m536/536\u001b[0m \u001b[32m━━━━━━━━━━━━━━━━━━━━\u001b[0m\u001b[37m\u001b[0m \u001b[1m19s\u001b[0m 35ms/step - accuracy: 0.9748 - loss: 0.0676 - val_accuracy: 0.8705 - val_loss: 0.4113\n",
      "Epoch 7/10\n",
      "\u001b[1m536/536\u001b[0m \u001b[32m━━━━━━━━━━━━━━━━━━━━\u001b[0m\u001b[37m\u001b[0m \u001b[1m18s\u001b[0m 34ms/step - accuracy: 0.9808 - loss: 0.0558 - val_accuracy: 0.8712 - val_loss: 0.4382\n",
      "Epoch 8/10\n",
      "\u001b[1m536/536\u001b[0m \u001b[32m━━━━━━━━━━━━━━━━━━━━\u001b[0m\u001b[37m\u001b[0m \u001b[1m19s\u001b[0m 35ms/step - accuracy: 0.9828 - loss: 0.0480 - val_accuracy: 0.8752 - val_loss: 0.4915\n",
      "Epoch 9/10\n",
      "\u001b[1m536/536\u001b[0m \u001b[32m━━━━━━━━━━━━━━━━━━━━\u001b[0m\u001b[37m\u001b[0m \u001b[1m19s\u001b[0m 35ms/step - accuracy: 0.9832 - loss: 0.0442 - val_accuracy: 0.8735 - val_loss: 0.5555\n",
      "Epoch 10/10\n",
      "\u001b[1m536/536\u001b[0m \u001b[32m━━━━━━━━━━━━━━━━━━━━\u001b[0m\u001b[37m\u001b[0m \u001b[1m19s\u001b[0m 35ms/step - accuracy: 0.9859 - loss: 0.0396 - val_accuracy: 0.8777 - val_loss: 0.5798\n",
      "\u001b[1m134/134\u001b[0m \u001b[32m━━━━━━━━━━━━━━━━━━━━\u001b[0m\u001b[37m\u001b[0m \u001b[1m1s\u001b[0m 10ms/step - accuracy: 0.8804 - loss: 0.5407\n",
      "Loss: 0.579781174659729, Accuracy: 0.8777414560317993\n"
     ]
    }
   ],
   "source": [
    "# Split data menjadi train dan test\n",
    "X = df['processed']\n",
    "y = df['label']\n",
    "\n",
    "# Tokenisasi dan padding\n",
    "tokenizer = Tokenizer(num_words=10000, oov_token=\"<OOV>\")\n",
    "tokenizer.fit_on_texts(X)\n",
    "X_sequences = tokenizer.texts_to_sequences(X)\n",
    "X_padded = pad_sequences(X_sequences, maxlen=100, padding='post', truncating='post')\n",
    "\n",
    "# Encode label\n",
    "label_encoder = LabelEncoder()\n",
    "y_encoded = label_encoder.fit_transform(y)\n",
    "\n",
    "# Split data\n",
    "X_train, X_test, y_train, y_test = train_test_split(X_padded, y_encoded, test_size=0.2, random_state=42)\n",
    "\n",
    "# Bangun model\n",
    "model = Sequential([\n",
    "    Embedding(input_dim=10000, output_dim=128, input_length=100),\n",
    "    Bidirectional(LSTM(64, return_sequences=True)),\n",
    "    GlobalMaxPooling1D(),\n",
    "    Dense(64, activation='relu'),\n",
    "    Dropout(0.5),\n",
    "    Dense(3, activation='softmax')  # 3 kelas: negatif, netral, positif\n",
    "])\n",
    "\n",
    "# Compile model\n",
    "model.compile(optimizer='adam', loss='sparse_categorical_crossentropy', metrics=['accuracy'])\n",
    "\n",
    "# Train model\n",
    "history = model.fit(X_train, y_train, epochs=10, batch_size=32, validation_data=(X_test, y_test))\n",
    "\n",
    "# Evaluasi model\n",
    "loss, accuracy = model.evaluate(X_test, y_test)\n",
    "print(f\"Loss: {loss}, Accuracy: {accuracy}\")"
   ]
  },
  {
   "cell_type": "markdown",
   "metadata": {},
   "source": [
    "## VISUALISASI DATA"
   ]
  },
  {
   "cell_type": "code",
   "execution_count": 33,
   "metadata": {},
   "outputs": [
    {
     "name": "stderr",
     "output_type": "stream",
     "text": [
      "C:\\Users\\padla\\AppData\\Local\\Temp\\ipykernel_21096\\1435167787.py:3: FutureWarning: \n",
      "\n",
      "Passing `palette` without assigning `hue` is deprecated and will be removed in v0.14.0. Assign the `x` variable to `hue` and set `legend=False` for the same effect.\n",
      "\n",
      "  sns.countplot(x=df['label'], palette='viridis')\n"
     ]
    },
    {
     "data": {
      "image/png": "[encoded data removed]",
      "text/plain": [
       "<Figure size 800x600 with 1 Axes>"
      ]
     },
     "metadata": {},
     "output_type": "display_data"
    }
   ],
   "source": [
    "# Visualisasi distribusi label sentimen\n",
    "plt.figure(figsize=(8, 6))\n",
    "sns.countplot(x=df['label'], palette='viridis')\n",
    "plt.title('Distribusi Label Sentimen', fontsize=16)\n",
    "plt.xlabel('Label Sentimen', fontsize=14)\n",
    "plt.ylabel('Jumlah', fontsize=14)\n",
    "plt.xticks(ticks=[0, 1, 2], labels=['Negatif', 'Netral', 'Positif'], fontsize=12)\n",
    "plt.grid(axis='y', linestyle='--', alpha=0.7)\n",
    "plt.show()"
   ]
  },
  {
   "cell_type": "markdown",
   "metadata": {},
   "source": [
    "## HASIL EVALUASI MODEL\n",
    "\n",
    "### Interpretasi Hasil\n",
    "\n",
    "Model yang dibangun memiliki akurasi sebesar **87.77%** pada data uji, yang menunjukkan performa yang cukup baik dalam mengklasifikasikan sentimen komentar YouTube. Namun, nilai loss sebesar **0.5798** mengindikasikan bahwa model masih memiliki ruang untuk perbaikan. Berikut adalah beberapa poin penting dari hasil evaluasi:\n",
    "\n",
    "1. **Akurasi Tinggi**: Dengan akurasi hampir 88%, model dapat mengenali pola sentimen dalam data dengan baik. Hal ini menunjukkan bahwa preprocessing data dan arsitektur model yang digunakan sudah cukup efektif.\n",
    "\n",
    "2. **Distribusi Label Tidak Seimbang**: Sebagian besar data memiliki label sentimen negatif, diikuti oleh positif, dan netral yang lebih sedikit. Ketidakseimbangan ini dapat memengaruhi performa model, terutama dalam mengenali sentimen netral.\n",
    "\n",
    "3. **Ruang untuk Perbaikan**:\n",
    "    - **Tuning Hyperparameter**: Mengoptimalkan parameter seperti jumlah neuron, learning rate, atau ukuran batch dapat meningkatkan performa model.\n",
    "    - **Penambahan Data Latih**: Menggunakan lebih banyak data, terutama untuk kelas sentimen netral, dapat membantu model lebih generalisasi.\n",
    "    - **Eksperimen dengan Model Lain**: Mencoba model berbasis transformer seperti BERT dapat memberikan hasil yang lebih baik, terutama untuk data teks.\n",
    "\n",
    "4. **Konteks Dataset**: Dataset yang digunakan berasal dari komentar YouTube, yang cenderung memiliki bahasa informal dan variasi gaya penulisan. Hal ini menjadi tantangan tersendiri dalam analisis sentimen, namun model berhasil menangani hal tersebut dengan cukup baik.\n",
    "\n",
    "Secara keseluruhan, model ini sudah memberikan hasil yang memadai untuk analisis sentimen komentar YouTube, namun masih ada potensi untuk meningkatkan performa melalui eksperimen lebih lanjut.\n"
   ]
  },
  {
   "cell_type": "code",
   "execution_count": null,
   "metadata": {},
   "outputs": [
    {
     "name": "stdout",
     "output_type": "stream",
     "text": [
      "absl-py==2.2.2\n",
      "asttokens==3.0.0\n",
      "astunparse==1.6.3\n",
      "attrs==25.3.0\n",
      "backcall==0.2.0\n",
      "beautifulsoup4==4.13.3\n",
      "bleach==6.2.0\n",
      "certifi==2025.1.31\n",
      "charset-normalizer==3.4.1\n",
      "click==8.1.8\n",
      "colorama==0.4.6\n",
      "comm==0.2.2\n",
      "contourpy==1.3.1\n",
      "cycler==0.12.1\n",
      "debugpy==1.8.13\n",
      "decorator==5.2.1\n",
      "defusedxml==0.7.1\n",
      "docopt==0.6.2\n",
      "executing==2.2.0\n",
      "fastjsonschema==2.21.1\n",
      "filelock==3.18.0\n",
      "flatbuffers==25.2.10\n",
      "fonttools==4.57.0\n",
      "fsspec==2025.3.2\n",
      "gast==0.6.0\n",
      "google-pasta==0.2.0\n",
      "grpcio==1.71.0\n",
      "h5py==3.13.0\n",
      "huggingface-hub==0.30.2\n",
      "idna==3.10\n",
      "ipykernel==6.29.5\n",
      "ipython==8.12.3\n",
      "ipython_pygments_lexers==1.1.1\n",
      "jedi==0.19.2\n",
      "Jinja2==3.1.6\n",
      "joblib==1.4.2\n",
      "jsonschema==4.23.0\n",
      "jsonschema-specifications==2024.10.1\n",
      "jupyter_client==8.6.3\n",
      "jupyter_core==5.7.2\n",
      "jupyterlab_pygments==0.3.0\n",
      "keras==3.9.2\n",
      "kiwisolver==1.4.8\n",
      "libclang==18.1.1\n",
      "Markdown==3.7\n",
      "markdown-it-py==3.0.0\n",
      "MarkupSafe==3.0.2\n",
      "matplotlib==3.10.1\n",
      "matplotlib-inline==0.1.7\n",
      "mdurl==0.1.2\n",
      "mistune==3.1.3\n",
      "ml_dtypes==0.5.1\n",
      "mpmath==1.3.0\n",
      "namex==0.0.8\n",
      "nbclient==0.10.2\n",
      "nbconvert==7.16.6\n",
      "nbformat==5.10.4\n",
      "nest-asyncio==1.6.0\n",
      "networkx==3.4.2\n",
      "nltk==3.9.1\n",
      "numpy==2.1.3\n",
      "opt_einsum==3.4.0\n",
      "optree==0.15.0\n",
      "packaging==24.2\n",
      "pandas==2.2.3\n",
      "pandocfilters==1.5.1\n",
      "parso==0.8.4\n",
      "pickleshare==0.7.5\n",
      "pillow==11.1.0\n",
      "pipeline==0.1.0\n",
      "pipreqs==0.5.0\n",
      "platformdirs==4.3.7\n",
      "prompt_toolkit==3.0.50\n",
      "protobuf==5.29.4\n",
      "psutil==7.0.0\n",
      "pure_eval==0.2.3\n",
      "Pygments==2.19.1\n",
      "pyparsing==3.2.3\n",
      "python-dateutil==2.9.0.post0\n",
      "pytz==2025.2\n",
      "pywin32==310\n",
      "PyYAML==6.0.2\n",
      "pyzmq==26.4.0\n",
      "referencing==0.36.2\n",
      "regex==2024.11.6\n",
      "requests==2.32.3\n",
      "rich==14.0.0\n",
      "rpds-py==0.24.0\n",
      "safetensors==0.5.3\n",
      "Sastrawi==1.0.1\n",
      "scikit-learn==1.6.1\n",
      "scipy==1.15.2\n",
      "seaborn==0.13.2\n",
      "six==1.17.0\n",
      "soupsieve==2.6\n",
      "stack-data==0.6.3\n",
      "sympy==1.13.1\n",
      "tensorboard==2.19.0\n",
      "tensorboard-data-server==0.7.2\n",
      "tensorflow==2.19.0\n",
      "tensorflow-io-gcs-filesystem==0.31.0\n",
      "termcolor==3.0.1\n",
      "tf_keras==2.19.0\n",
      "threadpoolctl==3.6.0\n",
      "tinycss2==1.4.0\n",
      "tokenizers==0.21.1\n",
      "torch==2.6.0\n",
      "tornado==6.4.2\n",
      "tqdm==4.67.1\n",
      "traitlets==5.14.3\n",
      "transformers==4.51.1\n",
      "typing_extensions==4.13.1\n",
      "tzdata==2025.2\n",
      "urllib3==2.3.0\n",
      "wcwidth==0.2.13\n",
      "webencodings==0.5.1\n",
      "Werkzeug==3.1.3\n",
      "wrapt==1.17.2\n",
      "yarg==0.1.9\n",
      "Note: you may need to restart the kernel to use updated packages.\n"
     ]
    }
   ],
   "source": [
    "#pip freeze requirements.txt"
   ]
  }
 ],
 "metadata": {
  "kernelspec": {
   "display_name": ".venv",
   "language": "python",
   "name": "python3"
  },
  "language_info": {
   "codemirror_mode": {
    "name": "ipython",
    "version": 3
   },
   "file_extension": ".py",
   "mimetype": "text/x-python",
   "name": "python",
   "nbconvert_exporter": "python",
   "pygments_lexer": "ipython3",
   "version": "3.11.9"
  }
 },
 "nbformat": 4,
 "nbformat_minor": 2
}
